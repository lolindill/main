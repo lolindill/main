{
  "nbformat": 4,
  "nbformat_minor": 0,
  "metadata": {
    "colab": {
      "provenance": [],
      "include_colab_link": true
    },
    "kernelspec": {
      "name": "python3",
      "display_name": "Python 3"
    },
    "language_info": {
      "name": "python"
    }
  },
  "cells": [
    {
      "cell_type": "markdown",
      "metadata": {
        "id": "view-in-github",
        "colab_type": "text"
      },
      "source": [
        "<a href=\"https://colab.research.google.com/github/lolindill/main/blob/master/Predictor/data/json_unzip.ipynb\" target=\"_parent\"><img src=\"https://colab.research.google.com/assets/colab-badge.svg\" alt=\"Open In Colab\"/></a>"
      ]
    },
    {
      "cell_type": "markdown",
      "source": [
        "# load data\n",
        "**connect to https://drive.google.com/drive/folders/1c7MwTdLxnPgvmPbBEfNWa45YAUU53H0l** that share short cut in my google drive"
      ],
      "metadata": {
        "id": "04DcMHIr9wAZ"
      }
    },
    {
      "cell_type": "code",
      "source": [
        "import os\n",
        "from google.colab import drive\n",
        "drive.mount(\"/content/drive\")"
      ],
      "metadata": {
        "colab": {
          "base_uri": "https://localhost:8080/"
        },
        "id": "vM5-gRwb9WG0",
        "outputId": "98ce3606-bc0c-482e-9861-a63f02859aa4"
      },
      "execution_count": 10,
      "outputs": [
        {
          "output_type": "stream",
          "name": "stdout",
          "text": [
            "Drive already mounted at /content/drive; to attempt to forcibly remount, call drive.mount(\"/content/drive\", force_remount=True).\n"
          ]
        }
      ]
    },
    {
      "cell_type": "markdown",
      "source": [
        "# unzip raw data .json.gz"
      ],
      "metadata": {
        "id": "3Zm5cwF2_eXq"
      }
    },
    {
      "cell_type": "code",
      "source": [
        "def list_files_from_position(directory, start, n):\n",
        "    entries = []\n",
        "    count = 0\n",
        "    with os.scandir(directory) as it:\n",
        "        for entry in it:\n",
        "            if entry.is_file():\n",
        "                if count >= start:\n",
        "                    entries.append(entry.name)\n",
        "                    if len(entries) >= n:\n",
        "                        break\n",
        "                count += 1\n",
        "    return entries"
      ],
      "metadata": {
        "id": "0aaTX5YzY6Sm"
      },
      "execution_count": 11,
      "outputs": []
    },
    {
      "cell_type": "code",
      "source": [
        "directory_path = '/content/drive/MyDrive/STS Data/Monthly_2020_11'\n",
        "select_files = list_files_from_position(directory_path,11,30)"
      ],
      "metadata": {
        "id": "4haU1ttlZFGK"
      },
      "execution_count": 13,
      "outputs": []
    },
    {
      "cell_type": "code",
      "execution_count": 14,
      "metadata": {
        "id": "hCDsXLgUadKs"
      },
      "outputs": [],
      "source": [
        "import gzip\n",
        "import json\n",
        "\n",
        "combined_data = []\n",
        "# Open the .gz file and read its content\n",
        "for i in select_files:\n",
        "  with gzip.open(directory_path + '/'+i, 'rt', encoding='utf-8') as f:\n",
        "      data = json.load(f)"
      ]
    },
    {
      "cell_type": "code",
      "source": [
        "!mkdir output"
      ],
      "metadata": {
        "id": "9J7XVG0uIV4S"
      },
      "execution_count": 15,
      "outputs": []
    },
    {
      "cell_type": "code",
      "source": [
        "%cd"
      ],
      "metadata": {
        "id": "6lIe0xtBMVXr",
        "outputId": "ba8e9ef1-151d-487e-a056-2ccd49861e0e",
        "colab": {
          "base_uri": "https://localhost:8080/"
        }
      },
      "execution_count": 16,
      "outputs": [
        {
          "output_type": "stream",
          "name": "stdout",
          "text": [
            "/root\n"
          ]
        }
      ]
    },
    {
      "cell_type": "code",
      "source": [
        "for i in select_files:\n",
        " with open( '/content/output/' + i.replace('.gz', ''), 'w', encoding='utf-8') as f:\n",
        "      json.dump(data, f, indent=4)"
      ],
      "metadata": {
        "id": "BP2Vz3T8KOt-"
      },
      "execution_count": 17,
      "outputs": []
    },
    {
      "cell_type": "code",
      "source": [
        "import shutil\n",
        "# Directory you want to zip\n",
        "dir_to_zip = '/content/output'\n",
        "# Output zip file\n",
        "output_filename = '/content/raw_data.zip'\n",
        "# Zipping the directory\n",
        "shutil.make_archive(output_filename.replace('.zip', ''), 'zip', dir_to_zip)\n"
      ],
      "metadata": {
        "id": "cXAxu1q700wJ",
        "outputId": "c23e8a01-315d-461a-c367-95e1bc719c2b",
        "colab": {
          "base_uri": "https://localhost:8080/",
          "height": 36
        }
      },
      "execution_count": 18,
      "outputs": [
        {
          "output_type": "execute_result",
          "data": {
            "text/plain": [
              "'/content/raw_data.zip'"
            ],
            "application/vnd.google.colaboratory.intrinsic+json": {
              "type": "string"
            }
          },
          "metadata": {},
          "execution_count": 18
        }
      ]
    },
    {
      "cell_type": "code",
      "source": [
        "from google.colab import files\n",
        "files.download('/content/raw_data.zip')"
      ],
      "metadata": {
        "id": "aL9-QBgCafhL",
        "outputId": "392f2220-6856-454d-f452-f806d6c7e575",
        "colab": {
          "base_uri": "https://localhost:8080/",
          "height": 17
        }
      },
      "execution_count": 19,
      "outputs": [
        {
          "output_type": "display_data",
          "data": {
            "text/plain": [
              "<IPython.core.display.Javascript object>"
            ],
            "application/javascript": [
              "\n",
              "    async function download(id, filename, size) {\n",
              "      if (!google.colab.kernel.accessAllowed) {\n",
              "        return;\n",
              "      }\n",
              "      const div = document.createElement('div');\n",
              "      const label = document.createElement('label');\n",
              "      label.textContent = `Downloading \"${filename}\": `;\n",
              "      div.appendChild(label);\n",
              "      const progress = document.createElement('progress');\n",
              "      progress.max = size;\n",
              "      div.appendChild(progress);\n",
              "      document.body.appendChild(div);\n",
              "\n",
              "      const buffers = [];\n",
              "      let downloaded = 0;\n",
              "\n",
              "      const channel = await google.colab.kernel.comms.open(id);\n",
              "      // Send a message to notify the kernel that we're ready.\n",
              "      channel.send({})\n",
              "\n",
              "      for await (const message of channel.messages) {\n",
              "        // Send a message to notify the kernel that we're ready.\n",
              "        channel.send({})\n",
              "        if (message.buffers) {\n",
              "          for (const buffer of message.buffers) {\n",
              "            buffers.push(buffer);\n",
              "            downloaded += buffer.byteLength;\n",
              "            progress.value = downloaded;\n",
              "          }\n",
              "        }\n",
              "      }\n",
              "      const blob = new Blob(buffers, {type: 'application/binary'});\n",
              "      const a = document.createElement('a');\n",
              "      a.href = window.URL.createObjectURL(blob);\n",
              "      a.download = filename;\n",
              "      div.appendChild(a);\n",
              "      a.click();\n",
              "      div.remove();\n",
              "    }\n",
              "  "
            ]
          },
          "metadata": {}
        },
        {
          "output_type": "display_data",
          "data": {
            "text/plain": [
              "<IPython.core.display.Javascript object>"
            ],
            "application/javascript": [
              "download(\"download_517fc41e-6556-435f-a30a-8a03c15d9fe2\", \"raw_data.zip\", 48180406)"
            ]
          },
          "metadata": {}
        }
      ]
    }
  ]
}